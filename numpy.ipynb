{
 "cells": [
  {
   "cell_type": "code",
   "execution_count": 4,
   "id": "419ac20b-e761-4c73-80e2-2dff4ee48a55",
   "metadata": {},
   "outputs": [
    {
     "name": "stdout",
     "output_type": "stream",
     "text": [
      "Array a = [0 1 2 3]\n",
      "Array a dimension =  1\n",
      "Array a shape =  (4,)\n",
      "Array a size ( total no.of elements ) =  4\n",
      "Array a data type =  int32\n",
      "Array a length =  4\n"
     ]
    }
   ],
   "source": [
    "# 1D array construction\n",
    "import numpy as np\n",
    "a = np. array ([0 , 1, 2, 3])\n",
    "print ('Array a =',a)\n",
    "print ('Array a dimension = ',a. ndim )\n",
    "print ('Array a shape = ',a. shape )\n",
    "print ('Array a size ( total no.of elements ) = ',a. size )\n",
    "print ('Array a data type = ',a. dtype )\n",
    "print ('Array a length = ',len(a))"
   ]
  },
  {
   "cell_type": "code",
   "execution_count": 6,
   "id": "dea7018d-76f5-4918-8a70-edfc5f1cbd08",
   "metadata": {},
   "outputs": [
    {
     "name": "stdout",
     "output_type": "stream",
     "text": [
      "Array a = [[0.  1.  2.  3.1]\n",
      " [4.  5.  6.  7. ]]\n",
      "Array a dimension =  2\n",
      "Array a shape =  (2, 4)\n",
      "Array a size ( total no.of elements ) =  8\n",
      "Array a data type =  float64\n",
      "Array a length =  2\n"
     ]
    }
   ],
   "source": [
    "# 2D array construction\n",
    "import numpy as np\n",
    "a = np. array ([[0 , 1, 2, 3.1] ,[4 , 5, 6, 7]])\n",
    "print ('Array a =',a)\n",
    "print ('Array a dimension = ',a. ndim )\n",
    "print ('Array a shape = ',a. shape )\n",
    "print ('Array a size ( total no.of elements ) = ',a. size )\n",
    "print ('Array a data type = ',a. dtype )\n",
    "print ('Array a length = ',len(a)) # Returns the size of the first dimension"
   ]
  },
  {
   "cell_type": "code",
   "execution_count": 7,
   "id": "da53fb89-56e0-4c70-bb43-b269fe9ea6b6",
   "metadata": {},
   "outputs": [
    {
     "name": "stdout",
     "output_type": "stream",
     "text": [
      "Array a = [[[ 0  1  2  3]\n",
      "  [ 4  5  6  7]]\n",
      "\n",
      " [[ 8  9 10 11]\n",
      "  [12 13 14 15]]]\n",
      "Array a dimension =  3\n",
      "Array a shape =  (2, 2, 4)\n",
      "Array a size ( total no.of elements ) =  16\n",
      "Array a data type =  int32\n",
      "Array a length =  2\n"
     ]
    }
   ],
   "source": [
    "import numpy as np\n",
    "a = np. array ([[[0 , 1, 2, 3] ,[4 , 5, 6, 7]] ,[[8 , 9, 10,\n",
    "11] ,[12 , 13, 14, 15]]])\n",
    "print ('Array a =',a)\n",
    "print ('Array a dimension = ',a. ndim )\n",
    "print ('Array a shape = ',a. shape )\n",
    "print ('Array a size ( total no.of elements ) = ',a. size )\n",
    "print ('Array a data type = ',a. dtype )\n",
    "print ('Array a length = ',len(a))"
   ]
  },
  {
   "cell_type": "code",
   "execution_count": 10,
   "id": "d9a639a2-7a1c-464f-8ed5-620896903442",
   "metadata": {},
   "outputs": [
    {
     "name": "stdout",
     "output_type": "stream",
     "text": [
      " Array created using passed list :\n",
      " [[1. 2. 4.]\n",
      " [5. 8. 7.]]\n",
      "\n",
      " Array created using passed tuple :\n",
      " [1 3 2]\n"
     ]
    }
   ],
   "source": [
    "\n",
    "import numpy as np\n",
    "a = np. array ([[1 , 2, 4], [5, 8, 7]] , dtype = 'float')\n",
    "print (\" Array created using passed list :\\n\", a)\n",
    "\n",
    "# Creating array from tuple\n",
    "b = np. array ((1 , 3, 2))\n",
    "print (\"\\n Array created using passed tuple :\\n\", b)"
   ]
  },
  {
   "cell_type": "code",
   "execution_count": 15,
   "id": "1a5832d2-dd1a-49a6-8e32-0f10fc2919ea",
   "metadata": {},
   "outputs": [
    {
     "name": "stdout",
     "output_type": "stream",
     "text": [
      "\n",
      " An array initialized with all zeros :\n",
      " [[0. 0. 0. 0.]\n",
      " [0. 0. 0. 0.]\n",
      " [0. 0. 0. 0.]]\n",
      "\n",
      " An array initialized with all 6s. The Array type is complex :\n",
      " [[6.+0.j 6.+0.j 6.+0.j]\n",
      " [6.+0.j 6.+0.j 6.+0.j]\n",
      " [6.+0.j 6.+0.j 6.+0.j]]\n",
      "\n",
      " A random array :\n",
      " [[0.22157571 0.90715007]\n",
      " [0.1770623  0.8700807 ]]\n"
     ]
    }
   ],
   "source": [
    "c = np. zeros ((3 , 4))\n",
    "print (\"\\n An array initialized with all zeros :\\n\", c)\n",
    "d = np. full ((3 , 3) , 6, dtype = 'complex')\n",
    "print (\"\\n An array initialized with all 6s. The Array type is complex :\\n\", d)\n",
    "e = np. random . random ((2 , 2))\n",
    "print (\"\\n A random array :\\n\", e)"
   ]
  },
  {
   "cell_type": "code",
   "execution_count": 18,
   "id": "930652eb-49ee-41d0-961f-230a2c6d9684",
   "metadata": {},
   "outputs": [
    {
     "name": "stdout",
     "output_type": "stream",
     "text": [
      "\n",
      " A sequential array with steps of 5:\n",
      " [ 0  5 10 15 20 25]\n",
      "\n",
      " A sequential array with 10 values between 0 and 5:\n",
      " [0.         0.55555556 1.11111111 1.66666667 2.22222222 2.77777778\n",
      " 3.33333333 3.88888889 4.44444444 5.        ]\n"
     ]
    }
   ],
   "source": [
    "f = np. arange (0, 30, 5)\n",
    "print (\"\\n A sequential array with steps of 5:\\n\", f)\n",
    "g = np. linspace (0, 5, 10)\n",
    "print (\"\\n A sequential array with 10 values between 0 and 5:\\n\", g)"
   ]
  },
  {
   "cell_type": "code",
   "execution_count": 19,
   "id": "afce72e2-d38b-4093-9c20-1e1e76201272",
   "metadata": {},
   "outputs": [
    {
     "name": "stdout",
     "output_type": "stream",
     "text": [
      "\n",
      " Original array :\n",
      " [[1 2 3 4]\n",
      " [5 2 4 2]\n",
      " [1 2 0 1]]\n",
      " Reshaped array :\n",
      " [[[1 2 3]\n",
      "  [4 5 2]]\n",
      "\n",
      " [[4 2 1]\n",
      "  [2 0 1]]]\n"
     ]
    }
   ],
   "source": [
    "arr = np. array ([[1 , 2, 3, 4],[5, 2, 4, 2],[1, 2, 0, 1]])\n",
    "newarr = arr. reshape (2, 2, 3)\n",
    "print (\"\\n Original array :\\n\", arr)\n",
    "print (\" Reshaped array :\\n\", newarr )"
   ]
  },
  {
   "cell_type": "code",
   "execution_count": 21,
   "id": "2c526c78-af12-41fd-871d-e3919fe88f83",
   "metadata": {},
   "outputs": [
    {
     "name": "stdout",
     "output_type": "stream",
     "text": [
      "\n",
      " Original array :\n",
      " [[1 2 3]\n",
      " [4 5 6]]\n",
      " Flattened array :\n",
      " [1 2 3 4 5 6]\n"
     ]
    }
   ],
   "source": [
    "arr = np. array ([[1 , 2, 3], [4, 5, 6]])\n",
    "flarr = arr. flatten ()\n",
    "print (\"\\n Original array :\\n\", arr)\n",
    "print (\" Flattened array :\\n\", flarr )"
   ]
  },
  {
   "cell_type": "code",
   "execution_count": 22,
   "id": "1803e3b9-9faa-4b18-bafe-e6c28060a12f",
   "metadata": {},
   "outputs": [
    {
     "name": "stdout",
     "output_type": "stream",
     "text": [
      "int32\n",
      "float64\n",
      "complex128\n",
      "bool\n",
      "<U11\n"
     ]
    }
   ],
   "source": [
    "a = np. array ([1 , 2, 3])\n",
    "print (a. dtype )\n",
    "a = np. array ([1.0 , 2, 3])\n",
    "print (a. dtype )\n",
    "a = np. array ([1+1j, 2.0+2j, 3])\n",
    "print (a. dtype )\n",
    "a = np. array ([ True , False , False , True , False ])\n",
    "print (a. dtype )\n",
    "a = np. array ([ 'Vellore ', 'Chennai ', 'Vijayawada ', 'Delhi ', 'Bengaluru '])\n",
    "print (a. dtype )"
   ]
  },
  {
   "cell_type": "code",
   "execution_count": 23,
   "id": "9eb4655a-c4dd-42d0-90ba-8ed03b52081d",
   "metadata": {},
   "outputs": [
    {
     "name": "stdout",
     "output_type": "stream",
     "text": [
      "[0 1 2 3 4 5 6 7 8 9]\n",
      "2\n"
     ]
    }
   ],
   "source": [
    "a = np. arange (10)\n",
    "print (a)\n",
    "print (a [0]+ a [2])"
   ]
  },
  {
   "cell_type": "code",
   "execution_count": 24,
   "id": "92f5631a-3c59-42c9-a3a9-3a45b76c9833",
   "metadata": {},
   "outputs": [
    {
     "name": "stdout",
     "output_type": "stream",
     "text": [
      "8\n"
     ]
    }
   ],
   "source": [
    "arr = np. array ([[1 ,2 ,3 ,4 ,5] , [6 ,7 ,8 ,9 ,10]])\n",
    "print (arr [1 ,2])"
   ]
  },
  {
   "cell_type": "code",
   "execution_count": 1,
   "id": "ebc7a441-fc0b-4319-bc7f-1db5a5c1cba1",
   "metadata": {},
   "outputs": [
    {
     "data": {
      "text/plain": [
       "array([0.30231828, 0.70231558, 0.38997894, 0.19719002])"
      ]
     },
     "execution_count": 1,
     "metadata": {},
     "output_type": "execute_result"
    }
   ],
   "source": [
    "import numpy as np\n",
    "a = np.random.rand(5 ,4)\n",
    "a[1 ,1] # List the second row second element\n",
    "# a[: ,2] # List all elements in the third column\n",
    "# a[1 ,:] # List all element in the second row .\n",
    "a[1] # Similar to above\n",
    "# a [1:5] # List the elements from the second to fifth element .\n",
    "#a[(2 ,3):(1 ,2)] # List the [a[2 ,1] , a [3 ,2]] elements"
   ]
  },
  {
   "cell_type": "code",
   "execution_count": 49,
   "id": "dd99f77c-1231-47b7-ad7b-901004e81ec9",
   "metadata": {},
   "outputs": [
    {
     "name": "stdout",
     "output_type": "stream",
     "text": [
      "Last element from 2nd dim :  10\n"
     ]
    }
   ],
   "source": [
    "a[ -3: -1]\n",
    "a[ -3:]\n",
    "arr = np. array ([[1 ,2 ,3 ,4 ,5] , [6 ,7 ,8 ,9 ,10]])\n",
    "print ('Last element from 2nd dim : ', arr [1, -1])"
   ]
  },
  {
   "cell_type": "code",
   "execution_count": 35,
   "id": "edd804bd-7a21-4f40-b9d8-328b02bda33c",
   "metadata": {},
   "outputs": [
    {
     "name": "stdout",
     "output_type": "stream",
     "text": [
      "[[ 0  1  2  3  4  5]\n",
      " [10 11 12 13 14 15]\n",
      " [20 21 22 23 24 25]\n",
      " [30 31 32 33 34 35]\n",
      " [40 41 42 43 44 45]\n",
      " [50 51 52 53 54 55]]\n"
     ]
    }
   ],
   "source": [
    "a = np. array ([[0 ,1 ,2 ,3 ,4 ,5] , [10 ,11 ,12 ,13 ,14 ,15] ,\n",
    "[20 ,21 ,22 ,23 ,24 ,25] , [30 ,31 ,32 ,33 ,34 ,35] ,\n",
    "[40 ,41 ,42 ,43 ,44 ,45] , [50 ,51 ,52 ,53 ,54 ,55]])\n",
    "\n",
    "print (a)"
   ]
  },
  {
   "cell_type": "code",
   "execution_count": 37,
   "id": "ddb6a3e1-74c4-4a3c-b22b-ecdaf1c2f1b5",
   "metadata": {},
   "outputs": [
    {
     "name": "stdout",
     "output_type": "stream",
     "text": [
      "[1 1 1 1 1 1]\n"
     ]
    }
   ],
   "source": [
    "b = a[: ,2]. copy ()\n",
    "b = np. array ([1 , 1, 1, 1, 1, 1])\n",
    "print(b)"
   ]
  },
  {
   "cell_type": "code",
   "execution_count": 48,
   "id": "7b616c8e-539a-4c56-8a48-1e565ca27f6e",
   "metadata": {},
   "outputs": [
    {
     "name": "stdout",
     "output_type": "stream",
     "text": [
      "\n",
      " Elements at indices (0, 3) , (1, 2) , (2, 1) ,(3, 0) :\n",
      " [[0, 1, 2, 3], [3, 2, 1, 0]]\n",
      "\n",
      " Elements less than 0.5:\n",
      " [0]\n"
     ]
    }
   ],
   "source": [
    "# Integer array indexing example\n",
    "temp = [[0 , 1, 2, 3], [3, 2, 1, 0]]\n",
    "print (\"\\n Elements at indices (0, 3) , (1, 2) , (2, 1) ,(3, 0) :\\n\", temp )\n",
    "cond = a < 0.5 # cond is a boolean array\n",
    "temp = a[ cond ]\n",
    "print (\"\\n Elements less than 0.5:\\n\", temp )"
   ]
  },
  {
   "cell_type": "code",
   "execution_count": 39,
   "id": "ac227c17-020d-421d-af67-8f710e0df700",
   "metadata": {},
   "outputs": [
    {
     "name": "stdout",
     "output_type": "stream",
     "text": [
      " Adding 1 to every element : [2 3 6 4]\n",
      " Subtracting 3 from each element : [-2 -1  2  0]\n",
      " Multiplying each element by 10: [10 20 50 30]\n"
     ]
    }
   ],
   "source": [
    "import numpy as np\n",
    "a = np. array ([1 , 2, 5, 3])\n",
    "# add 1 to every element\n",
    "print (\" Adding 1 to every element :\", a+1)\n",
    "print (\" Subtracting 3 from each element :\", a -3)\n",
    "print (\" Multiplying each element by 10:\", a *10)"
   ]
  },
  {
   "cell_type": "code",
   "execution_count": 47,
   "id": "4e253887-54c0-40c7-a569-6ff7a76d3943",
   "metadata": {},
   "outputs": [
    {
     "name": "stdout",
     "output_type": "stream",
     "text": [
      " Squaring each element : [[ 1  4  9]\n",
      " [ 9 16 25]\n",
      " [81 36  0]]\n",
      " Doubled each element of original array : [[ 2  4  6]\n",
      " [ 6  8 10]\n",
      " [18 12  0]]\n",
      "\n",
      " Original array :\n",
      " [[ 2  4  6]\n",
      " [ 6  8 10]\n",
      " [18 12  0]]\n",
      " Transpose of array :\n",
      " [[ 2  6 18]\n",
      " [ 4  8 12]\n",
      " [ 6 10  0]]\n"
     ]
    }
   ],
   "source": [
    "a = np. array ([[1 , 2, 3], [3, 4, 5], [9, 6, 0]])\n",
    "print (\" Squaring each element :\", a **2)\n",
    "a*= 2\n",
    "print (\" Doubled each element of original array :\", a)\n",
    "print (\"\\n Original array :\\n\", a)\n",
    "print (\" Transpose of array :\\n\", a.T)"
   ]
  },
  {
   "cell_type": "code",
   "execution_count": 50,
   "id": "6060da69-37ae-463c-9f99-b7f9ca7f3aba",
   "metadata": {},
   "outputs": [
    {
     "data": {
      "text/plain": [
       "array([0.  , 0.25, 0.5 , 0.75, 1.  , 1.25, 1.5 , 1.75, 2.  ])"
      ]
     },
     "execution_count": 50,
     "metadata": {},
     "output_type": "execute_result"
    }
   ],
   "source": [
    "np.linspace(0,2,9)"
   ]
  },
  {
   "cell_type": "code",
   "execution_count": 52,
   "id": "7d91f509-b344-4950-8d8b-5612aa552b72",
   "metadata": {},
   "outputs": [
    {
     "data": {
      "text/plain": [
       "array([[0., 0.]])"
      ]
     },
     "execution_count": 52,
     "metadata": {},
     "output_type": "execute_result"
    }
   ],
   "source": [
    "np.zeros((1,2))"
   ]
  },
  {
   "cell_type": "code",
   "execution_count": 53,
   "id": "6a02837e-5927-4ef7-97a4-325a30948ab5",
   "metadata": {},
   "outputs": [
    {
     "data": {
      "text/plain": [
       "array([[1., 1.]])"
      ]
     },
     "execution_count": 53,
     "metadata": {},
     "output_type": "execute_result"
    }
   ],
   "source": [
    "np.ones((1,2))"
   ]
  },
  {
   "cell_type": "code",
   "execution_count": 54,
   "id": "c8ec1923-2fb6-497d-9904-a4b0a46a3c5d",
   "metadata": {},
   "outputs": [
    {
     "data": {
      "text/plain": [
       "array([[0.68550738, 0.51909418, 0.16217391, 0.77176674, 0.41154145],\n",
       "       [0.44283663, 0.36739753, 0.72431986, 0.39935132, 0.13978414],\n",
       "       [0.67233459, 0.18934991, 0.70154525, 0.39610098, 0.34036845],\n",
       "       [0.57729821, 0.00137868, 0.88755858, 0.89997176, 0.6000791 ],\n",
       "       [0.26621738, 0.31127339, 0.76087459, 0.53443423, 0.17830196]])"
      ]
     },
     "execution_count": 54,
     "metadata": {},
     "output_type": "execute_result"
    }
   ],
   "source": [
    "np.random.random((5,5))"
   ]
  },
  {
   "cell_type": "code",
   "execution_count": 66,
   "id": "6b01c673-a13b-4ce3-893b-f722789165a1",
   "metadata": {},
   "outputs": [
    {
     "data": {
      "text/plain": [
       "array([], dtype=float64)"
      ]
     },
     "execution_count": 66,
     "metadata": {},
     "output_type": "execute_result"
    }
   ],
   "source": [
    "np.empty((0))"
   ]
  },
  {
   "cell_type": "code",
   "execution_count": 74,
   "id": "19d87688-4e9a-4e29-bb31-63961e70f066",
   "metadata": {},
   "outputs": [
    {
     "data": {
      "text/plain": [
       "numpy.ndarray"
      ]
     },
     "execution_count": 74,
     "metadata": {},
     "output_type": "execute_result"
    }
   ],
   "source": [
    "array=np.array([[1,2,3,4],[1,2,3,4]])\n",
    "array\n",
    "array.astype(type)\n",
    "type(array)"
   ]
  },
  {
   "cell_type": "code",
   "execution_count": 79,
   "id": "c6439284-6f37-49ff-9752-a0b2b2cb15ad",
   "metadata": {},
   "outputs": [
    {
     "data": {
      "text/plain": [
       "array([[1, 2, 3, 4],\n",
       "       [1, 2, 3, 4]])"
      ]
     },
     "execution_count": 79,
     "metadata": {},
     "output_type": "execute_result"
    }
   ],
   "source": [
    "other =array.copy()\n",
    "other"
   ]
  },
  {
   "cell_type": "raw",
   "id": "47062a4d-5d2a-4fab-bf43-350f19a0a4a8",
   "metadata": {},
   "source": [
    "array.sort(axis=0)\n",
    "print(array)"
   ]
  },
  {
   "cell_type": "code",
   "execution_count": 3,
   "id": "0971bc9f-9ae7-4101-9ce3-5a8a9958b72f",
   "metadata": {},
   "outputs": [
    {
     "data": {
      "text/plain": [
       "array([2, 3, 4])"
      ]
     },
     "execution_count": 3,
     "metadata": {},
     "output_type": "execute_result"
    }
   ],
   "source": [
    "import numpy as np\n",
    "\n",
    "x=np.array([1,2,3])\n",
    "y=np.array([1,1,1])\n",
    "np.add(x,y)\n"
   ]
  },
  {
   "cell_type": "code",
   "execution_count": 6,
   "id": "ec26898b-01f9-4bdc-90e1-4ba4627b5bb9",
   "metadata": {},
   "outputs": [
    {
     "data": {
      "text/plain": [
       "array([[5, 3, 8, 9],\n",
       "       [2, 7, 8, 7],\n",
       "       [2, 7, 2, 2],\n",
       "       [1, 6, 7, 5],\n",
       "       [3, 9, 1, 8]])"
      ]
     },
     "execution_count": 6,
     "metadata": {},
     "output_type": "execute_result"
    }
   ],
   "source": [
    "a=np.random.randint(1,10,20)\n",
    "a=a.reshape(5,4)\n",
    "a"
   ]
  },
  {
   "cell_type": "code",
   "execution_count": 7,
   "id": "ed9ba18e-9fb5-4a5f-a888-a29bc851550d",
   "metadata": {},
   "outputs": [
    {
     "data": {
      "text/plain": [
       "array([[10,  6, 16, 18],\n",
       "       [ 4, 14, 16, 14],\n",
       "       [ 4, 14,  4,  4],\n",
       "       [ 2, 12, 14, 10],\n",
       "       [ 6, 18,  2, 16]])"
      ]
     },
     "execution_count": 7,
     "metadata": {},
     "output_type": "execute_result"
    }
   ],
   "source": [
    "a*2"
   ]
  },
  {
   "cell_type": "code",
   "execution_count": 8,
   "id": "0e1f6ed2-c6e0-4937-ac81-bf04de5ec96e",
   "metadata": {},
   "outputs": [
    {
     "data": {
      "text/plain": [
       "array([[25,  9, 64, 81],\n",
       "       [ 4, 49, 64, 49],\n",
       "       [ 4, 49,  4,  4],\n",
       "       [ 1, 36, 49, 25],\n",
       "       [ 9, 81,  1, 64]])"
      ]
     },
     "execution_count": 8,
     "metadata": {},
     "output_type": "execute_result"
    }
   ],
   "source": [
    "a**2"
   ]
  },
  {
   "cell_type": "code",
   "execution_count": 9,
   "id": "805fcae0-105c-4924-9abe-fe09ebe25e33",
   "metadata": {},
   "outputs": [
    {
     "data": {
      "text/plain": [
       "array([[2, 1, 4, 4],\n",
       "       [1, 3, 4, 3],\n",
       "       [1, 3, 1, 1],\n",
       "       [0, 3, 3, 2],\n",
       "       [1, 4, 0, 4]], dtype=int32)"
      ]
     },
     "execution_count": 9,
     "metadata": {},
     "output_type": "execute_result"
    }
   ],
   "source": [
    "a//2"
   ]
  },
  {
   "cell_type": "code",
   "execution_count": 10,
   "id": "40540bef-5477-42c7-8a60-86ce147eb3bd",
   "metadata": {},
   "outputs": [
    {
     "data": {
      "text/plain": [
       "array([[ 3,  1,  6,  7],\n",
       "       [ 0,  5,  6,  5],\n",
       "       [ 0,  5,  0,  0],\n",
       "       [-1,  4,  5,  3],\n",
       "       [ 1,  7, -1,  6]])"
      ]
     },
     "execution_count": 10,
     "metadata": {},
     "output_type": "execute_result"
    }
   ],
   "source": [
    "a-2"
   ]
  },
  {
   "cell_type": "code",
   "execution_count": null,
   "id": "adb7fd02-5131-434b-bb1b-af67597055ff",
   "metadata": {},
   "outputs": [],
   "source": []
  }
 ],
 "metadata": {
  "kernelspec": {
   "display_name": "Python 3 (ipykernel)",
   "language": "python",
   "name": "python3"
  },
  "language_info": {
   "codemirror_mode": {
    "name": "ipython",
    "version": 3
   },
   "file_extension": ".py",
   "mimetype": "text/x-python",
   "name": "python",
   "nbconvert_exporter": "python",
   "pygments_lexer": "ipython3",
   "version": "3.11.7"
  }
 },
 "nbformat": 4,
 "nbformat_minor": 5
}
