{
 "cells": [
  {
   "cell_type": "code",
   "execution_count": 1,
   "id": "b23dfd5d-773a-4ab3-9fae-eedb9d48bcea",
   "metadata": {},
   "outputs": [],
   "source": [
    "import numpy as np"
   ]
  },
  {
   "cell_type": "markdown",
   "id": "3cf1be7a-db8f-4d52-9ee3-870ec1952704",
   "metadata": {},
   "source": [
    "#### 1. a) Using the list comprehension technique generate the NumPy array"
   ]
  },
  {
   "cell_type": "code",
   "execution_count": 2,
   "id": "791a2538-33b6-473b-8f27-7349aec807cd",
   "metadata": {},
   "outputs": [
    {
     "data": {
      "text/plain": [
       "array([[15, 25, 35, 55, 65, 75],\n",
       "       [16, 26, 36, 56, 66, 76],\n",
       "       [18, 28, 38, 58, 68, 78],\n",
       "       [19, 29, 39, 59, 69, 79],\n",
       "       [20, 30, 40, 60, 70, 80],\n",
       "       [21, 31, 41, 61, 71, 81]])"
      ]
     },
     "execution_count": 2,
     "metadata": {},
     "output_type": "execute_result"
    }
   ],
   "source": [
    "A = np.array([i + j for i in [15, 16, 18, 19, 20, 21] for j in [0, 10, 20, 40, 50, 60]])\n",
    "A = A.reshape(6, 6)\n",
    "A"
   ]
  },
  {
   "cell_type": "markdown",
   "id": "883615a2-2d1d-4b49-ab24-3bbd1e624273",
   "metadata": {},
   "source": [
    "#### b) Extract a sub matrices of order 4 × 3 and 4 × 5 from the above matrix A and name them as B and C.\r"
   ]
  },
  {
   "cell_type": "code",
   "execution_count": 3,
   "id": "01808eec-b3e9-4c2d-badf-f3d279342603",
   "metadata": {},
   "outputs": [
    {
     "name": "stdout",
     "output_type": "stream",
     "text": [
      "Submatrix of order 4x3:\n",
      " [[15 25 35]\n",
      " [16 26 36]\n",
      " [18 28 38]\n",
      " [19 29 39]]\n"
     ]
    }
   ],
   "source": [
    "B=A[0:4,0:3]\n",
    "print(\"Submatrix of order 4x3:\\n\",B)"
   ]
  },
  {
   "cell_type": "code",
   "execution_count": 4,
   "id": "92267b44-6ab4-4a47-91dd-3ef9689b3bcf",
   "metadata": {},
   "outputs": [
    {
     "name": "stdout",
     "output_type": "stream",
     "text": [
      "Submatrix of order 4x5:\n",
      " [[15 25 35 55 65]\n",
      " [16 26 36 56 66]\n",
      " [18 28 38 58 68]\n",
      " [19 29 39 59 69]]\n"
     ]
    }
   ],
   "source": [
    "C=A[0:4,0:5]\n",
    "print(\"Submatrix of order 4x5:\\n\",C)"
   ]
  },
  {
   "cell_type": "markdown",
   "id": "56550be5-093b-4fa3-8fb1-6c531d6c5f5b",
   "metadata": {},
   "source": [
    "#### c. Extract the submatrix D =[[20,40,70],[15,35,65]]"
   ]
  },
  {
   "cell_type": "code",
   "execution_count": 5,
   "id": "12b3065a-813c-420c-9329-4308d0c6ef5f",
   "metadata": {},
   "outputs": [
    {
     "name": "stdout",
     "output_type": "stream",
     "text": [
      "Submatrix D :\n",
      " [[20 40 70]\n",
      " [15 35 65]]\n"
     ]
    }
   ],
   "source": [
    "D1=A[0::4,::2]\n",
    "D=D1[::-1]\n",
    "print(\"Submatrix D :\\n\",D)"
   ]
  },
  {
   "cell_type": "markdown",
   "id": "295d2c2a-2134-45cc-96e9-b655657959a0",
   "metadata": {},
   "source": [
    "#### d. Generate random integer matrices E3×3, F5×3 with entries between 10 and 60 and G a random matrix\r\n",
    "containing 5 elements"
   ]
  },
  {
   "cell_type": "code",
   "execution_count": 6,
   "id": "ab465a3a-a6a2-4f21-bbd7-741f560a71e6",
   "metadata": {},
   "outputs": [
    {
     "name": "stdout",
     "output_type": "stream",
     "text": [
      "Matrix E (3x3):\n",
      " [[14 32 58]\n",
      " [57 50 30]\n",
      " [50 44 17]]\n",
      "Matrix F (5x3):\n",
      " [[37 13 38]\n",
      " [18 48 48]\n",
      " [45 34 60]\n",
      " [27 51 57]\n",
      " [21 57 51]]\n",
      "Matrix G (5 elements):\n",
      " [26 16 34 32 44]\n"
     ]
    }
   ],
   "source": [
    "E=np.random.randint(10,61,(3,3))\n",
    "F=np.random.randint(10,61,(5,3))\n",
    "G=np.random.randint(10,61,(5,))\n",
    "\n",
    "print(\"Matrix E (3x3):\\n\", E)\n",
    "print(\"Matrix F (5x3):\\n\", F)\n",
    "print(\"Matrix G (5 elements):\\n\", G)\n"
   ]
  },
  {
   "cell_type": "markdown",
   "id": "3e6c439c-96e5-495c-a869-2b3759f09c14",
   "metadata": {},
   "source": [
    "#### e. Compute the matrix H = B(F^T)C +G. While evaluating the product use appropriate product such as matrix product and dot product wherever applicable.\n"
   ]
  },
  {
   "cell_type": "code",
   "execution_count": 7,
   "id": "9ff955dd-57a9-4530-bcbc-a79496b0dfee",
   "metadata": {},
   "outputs": [
    {
     "data": {
      "text/plain": [
       "array([[ 33176,  78766, 126909, 202157, 229169],\n",
       "       [ 36794,  84880, 135538, 213392, 241208],\n",
       "       [ 44558,  97792, 153630, 236672, 266060],\n",
       "       [ 48704, 104590, 163093, 248717, 278873]])"
      ]
     },
     "execution_count": 7,
     "metadata": {},
     "output_type": "execute_result"
    }
   ],
   "source": [
    "F1=F.T\n",
    "H=(B@F1)*C+G\n",
    "H"
   ]
  },
  {
   "cell_type": "markdown",
   "id": "1f4eecff-fec4-4c36-b368-7b1d72c74792",
   "metadata": {},
   "source": [
    "#### f. Round the entries of H to two decimal points and then find the square root of these elements and store as HS\r"
   ]
  },
  {
   "cell_type": "code",
   "execution_count": 8,
   "id": "2fd957f0-8fd2-4485-a0a2-0abe47cbc718",
   "metadata": {},
   "outputs": [
    {
     "data": {
      "text/plain": [
       "array([[182.14280112, 280.65281043, 356.24289467, 449.61872737,\n",
       "        478.71599096],\n",
       "       [191.81762171, 291.34172375, 368.15485872, 461.94371952,\n",
       "        491.12931087],\n",
       "       [211.08765952, 312.71712457, 391.95663025, 486.48946546,\n",
       "        515.81004255],\n",
       "       [220.68982759, 323.4037724 , 403.84774359, 498.71534967,\n",
       "        528.08427358]])"
      ]
     },
     "execution_count": 8,
     "metadata": {},
     "output_type": "execute_result"
    }
   ],
   "source": [
    "H_rounded = np.round(H, 2)\n",
    "HS = np.sqrt(H_rounded)\n",
    "HS"
   ]
  },
  {
   "cell_type": "markdown",
   "id": "517880ce-c704-4804-a6df-836227acb5d8",
   "metadata": {},
   "source": [
    "#### g. Find the inverse of the matrix, eigenvalues and eigenvectors of the matrix E"
   ]
  },
  {
   "cell_type": "code",
   "execution_count": 9,
   "id": "2d0aa4ac-6bef-47d3-8f48-50a4ddb566e9",
   "metadata": {},
   "outputs": [
    {
     "name": "stdout",
     "output_type": "stream",
     "text": [
      "The inverse of matrix E: \n",
      " [[-0.04321442  0.1846267  -0.1783744 ]\n",
      " [ 0.0488231  -0.2447591   0.26535491]\n",
      " [ 0.00073556  0.09047444 -0.10334682]]\n"
     ]
    }
   ],
   "source": [
    "det_e=np.linalg.det(E)\n",
    "if det_e!=0:\n",
    "    e_inv=np.linalg.inv(E)\n",
    "    print('The inverse of matrix E: \\n',e_inv)\n",
    "else:\n",
    "    print('Matrix E is singular and cannot be inverted.')"
   ]
  },
  {
   "cell_type": "code",
   "execution_count": 10,
   "id": "c9b8dae6-4d58-4436-8a4f-079bbf7b5bfb",
   "metadata": {},
   "outputs": [
    {
     "name": "stdout",
     "output_type": "stream",
     "text": [
      "\n",
      " Eigenvalues of matrix E:\n",
      "  [117.8854576  -34.18678159  -2.69867601]\n",
      "\n",
      "Eigenvectors of matrix E (columns correspond to eigenvalues):\n",
      "  [[-0.50901398 -0.80351855  0.57803961]\n",
      " [-0.66753864  0.38106721 -0.77338713]\n",
      " [-0.54341231  0.45732452  0.260274  ]]\n"
     ]
    }
   ],
   "source": [
    "eigenvalues, eigenvectors = np.linalg.eig(E)\n",
    "print(\"\\n Eigenvalues of matrix E:\\n \",eigenvalues)  \n",
    "print(\"\\nEigenvectors of matrix E (columns correspond to eigenvalues):\\n \",eigenvectors)  "
   ]
  },
  {
   "cell_type": "markdown",
   "id": "f9daa432-ac2a-4e38-b44b-16a24ab7e5fb",
   "metadata": {},
   "source": [
    "#### h. Find the row-wise and column-wise sum and product of the elements of the matrix (ED')'F'\r\n",
    ".\r"
   ]
  },
  {
   "cell_type": "code",
   "execution_count": 11,
   "id": "913c2441-1c17-4840-9886-93af5bb1a3c1",
   "metadata": {},
   "outputs": [
    {
     "name": "stdout",
     "output_type": "stream",
     "text": [
      "Column-wise sum: \n",
      " [ 803085. 1015680. 1256130. 1207650. 1158030.]\n",
      "Row-wise sum: \n",
      " [2898780. 2541795.]\n",
      "Column-wise product: \n",
      " [1.60630358e+11 2.56715352e+11 3.92866044e+11 3.62980138e+11\n",
      " 3.33726822e+11]\n",
      "Row-wise product: \n",
      " [6.14722544e+28 3.19241098e+28]\n"
     ]
    }
   ],
   "source": [
    "m25=((E@D.T).T)@F1\n",
    "m25\n",
    "print(\"Column-wise sum: \\n\", np.sum(m25,axis=0,dtype=np.float64))\n",
    "print(\"Row-wise sum: \\n\", np.sum(m25,axis=1,dtype=np.float64))\n",
    "print(\"Column-wise product: \\n\", np.prod(m25,axis=0,dtype=np.float64))\n",
    "print(\"Row-wise product: \\n\", np.prod(m25,axis=1,dtype=np.float64))"
   ]
  },
  {
   "cell_type": "markdown",
   "id": "48585269-8e98-407a-b8db-547f6430f7f4",
   "metadata": {},
   "source": [
    "#### i. Is the matrices E, F are broadcastable? If Yes, what is the shape of the resultant matrix? if no, why?\r",
    "\r"
   ]
  },
  {
   "cell_type": "code",
   "execution_count": 12,
   "id": "6fb15d85-d1f3-4666-abc5-b5a49bd52781",
   "metadata": {},
   "outputs": [
    {
     "name": "stdout",
     "output_type": "stream",
     "text": [
      "(3, 3)\n",
      "(5, 3)\n"
     ]
    },
    {
     "ename": "ValueError",
     "evalue": "matmul: Input operand 1 has a mismatch in its core dimension 0, with gufunc signature (n?,k),(k,m?)->(n?,m?) (size 5 is different from 3)",
     "output_type": "error",
     "traceback": [
      "\u001b[1;31m---------------------------------------------------------------------------\u001b[0m",
      "\u001b[1;31mValueError\u001b[0m                                Traceback (most recent call last)",
      "Cell \u001b[1;32mIn[12], line 3\u001b[0m\n\u001b[0;32m      1\u001b[0m \u001b[38;5;28mprint\u001b[39m(np\u001b[38;5;241m.\u001b[39mshape(E))\n\u001b[0;32m      2\u001b[0m \u001b[38;5;28mprint\u001b[39m(np\u001b[38;5;241m.\u001b[39mshape(F))\n\u001b[1;32m----> 3\u001b[0m E\u001b[38;5;129m@F\u001b[39m\n",
      "\u001b[1;31mValueError\u001b[0m: matmul: Input operand 1 has a mismatch in its core dimension 0, with gufunc signature (n?,k),(k,m?)->(n?,m?) (size 5 is different from 3)"
     ]
    }
   ],
   "source": [
    "print(np.shape(E))\n",
    "print(np.shape(F))\n",
    "E@F"
   ]
  },
  {
   "cell_type": "markdown",
   "id": "3fb55eab-3e8b-44e7-8c62-b4b01dde7d61",
   "metadata": {},
   "source": [
    "#### Broadcastability of Matrices E and F  \n",
    "### Reason  \r\n",
    "The matrices \\( E \\) and \\( F \\) are not broadcastable because their shapes are incompatible. Specifically:  \r\n",
    "- Shape of \\( E \\): (3, 3)  \r\n",
    "- Shape of \\( F \\): (5, 3)  \r\n",
    "\r\n",
    "When comparing the dimensions:  \r\n",
    "- The last dimension (3 from \\( E \\) and 3 from \\( F \\)) is compatible.  \r\n",
    "- However, the second last dimension (3 from \\( E \\) and 5 from \\( F \\)) is not compatible.  \r\n",
    "\r\n",
    "Since the sizes of the dimensions do not match and neither dimension is 1, broadcasting cannot #occur.  \r\n",
    "\r\n",
    "### Result  \r\n",
    "**Are \\( E \\) and \\( F \\) broadcastable?**: **No**"
   ]
  },
  {
   "cell_type": "markdown",
   "id": "a3b17f34-9874-4d62-8d83-0fca8788b86a",
   "metadata": {},
   "source": [
    "#### j. Provide the python command to generate a matrix of order 4x3x5x3 by reshaping the matrices C,E,F and adding them"
   ]
  },
  {
   "cell_type": "code",
   "execution_count": 13,
   "id": "e1cb3af8-130d-4fe5-91a8-1a6d9ad86181",
   "metadata": {},
   "outputs": [
    {
     "name": "stdout",
     "output_type": "stream",
     "text": [
      "(4, 5)\n",
      "(3, 3)\n",
      "(5, 3)\n",
      "The shape of the resulting matrix is:  (4, 3, 5, 3)\n"
     ]
    }
   ],
   "source": [
    "print(np.shape(C))\n",
    "print(np.shape(E))\n",
    "print(np.shape(F))\n",
    "RE_C=C.reshape(4,1,5,1)\n",
    "RE_E=E.reshape(1,3,1,3)\n",
    "RE_F=F.reshape(1,1,5,3)\n",
    "result= RE_C + RE_E + RE_F\n",
    "print('The shape of the resulting matrix is: ',result.shape)"
   ]
  },
  {
   "cell_type": "code",
   "execution_count": null,
   "id": "529d3aee-a71b-4e22-a3e8-1d56ee0301ca",
   "metadata": {},
   "outputs": [],
   "source": []
  }
 ],
 "metadata": {
  "kernelspec": {
   "display_name": "Python 3 (ipykernel)",
   "language": "python",
   "name": "python3"
  },
  "language_info": {
   "codemirror_mode": {
    "name": "ipython",
    "version": 3
   },
   "file_extension": ".py",
   "mimetype": "text/x-python",
   "name": "python",
   "nbconvert_exporter": "python",
   "pygments_lexer": "ipython3",
   "version": "3.11.7"
  }
 },
 "nbformat": 4,
 "nbformat_minor": 5
}
